{
 "cells": [
  {
   "cell_type": "code",
   "execution_count": null,
   "metadata": {},
   "outputs": [],
   "source": [
    "# import libraries\n",
    "import pandas as pd\n",
    "import glob, os\n",
    "from pathlib import Path"
   ]
  },
  {
   "cell_type": "code",
   "execution_count": 1,
   "metadata": {},
   "outputs": [
    {
     "ename": "NameError",
     "evalue": "name 'Path' is not defined",
     "output_type": "error",
     "traceback": [
      "\u001b[1;31m---------------------------------------------------------------------------\u001b[0m",
      "\u001b[1;31mNameError\u001b[0m                                 Traceback (most recent call last)",
      "\u001b[1;32mc:\\sohw\\butt\\data_merging.ipynb Cell 2\u001b[0m in \u001b[0;36m<cell line: 2>\u001b[1;34m()\u001b[0m\n\u001b[0;32m      <a href='vscode-notebook-cell:/c%3A/sohw/butt/data_merging.ipynb#W1sZmlsZQ%3D%3D?line=0'>1</a>\u001b[0m \u001b[39m# output folder\u001b[39;00m\n\u001b[1;32m----> <a href='vscode-notebook-cell:/c%3A/sohw/butt/data_merging.ipynb#W1sZmlsZQ%3D%3D?line=1'>2</a>\u001b[0m collected_data \u001b[39m=\u001b[39m Path\u001b[39m.\u001b[39mcwd() \u001b[39m/\u001b[39m \u001b[39m\"\u001b[39m\u001b[39moutput\u001b[39m\u001b[39m\"\u001b[39m\n",
      "\u001b[1;31mNameError\u001b[0m: name 'Path' is not defined"
     ]
    }
   ],
   "source": [
    "# output folder\n",
    "collected_data_folder = Path.cwd() / \"pushshift_data\"\n",
    "filelist = glob.glob(\"{}/*\".format(collected_data_folder.as_posix()))\n",
    "\n",
    "# run the filelsit thru pandas to concat all the fiels into one\n",
    "df_list = []\n",
    "for file in filelist:\n",
    "    _df = pd.read_csv(file, ...)\n",
    "    df_list.append(_df)\n",
    "\n",
    "df_merged = pd.concat(df_list)"
   ]
  },
  {
   "cell_type": "code",
   "execution_count": null,
   "metadata": {},
   "outputs": [],
   "source": [
    "df_merged"
   ]
  },
  {
   "cell_type": "code",
   "execution_count": null,
   "metadata": {},
   "outputs": [],
   "source": [
    "df_merged.plot()"
   ]
  }
 ],
 "metadata": {
  "interpreter": {
   "hash": "aee8b7b246df8f9039afb4144a1f6fd8d2ca17a180786b69acc140d282b71a49"
  },
  "kernelspec": {
   "display_name": "Python 3.10.5 64-bit",
   "language": "python",
   "name": "python3"
  },
  "language_info": {
   "codemirror_mode": {
    "name": "ipython",
    "version": 3
   },
   "file_extension": ".py",
   "mimetype": "text/x-python",
   "name": "python",
   "nbconvert_exporter": "python",
   "pygments_lexer": "ipython3",
   "version": "3.10.5"
  },
  "orig_nbformat": 4,
  "vscode": {
   "interpreter": {
    "hash": "219346b13714f768f9488e9b37d2a769c34fb63960c6dbb9230676da542bbf26"
   }
  }
 },
 "nbformat": 4,
 "nbformat_minor": 2
}
